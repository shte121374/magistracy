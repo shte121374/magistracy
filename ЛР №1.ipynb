{
 "cells": [
  {
   "cell_type": "markdown",
   "metadata": {
    "id": "oBmQGr_UyU-j"
   },
   "source": [
    "#ЛР №1"
   ]
  },
  {
   "cell_type": "markdown",
   "metadata": {
    "id": "af66v2bvmcP2"
   },
   "source": [
    "**Задание 1**\n",
    "\n",
    "Посчитайте:\n",
    "\n",
    "* $\\log(25)$, $\\log(\\exp(3))$, $\\log_{10}(1000)$\n",
    "* $\\pi^3$, $123^4$\n",
    "* $\\sqrt{459}$"
   ]
  },
  {
   "cell_type": "markdown",
   "metadata": {
    "id": "cMTDV2K6mcP3"
   },
   "source": [
    "**Задание 2**\n",
    "\n",
    "В переменных `a` и `b` хранятся некоторые числа. Напишите код, который бы менял значения переменных местами. Пример:"
   ]
  },
  {
   "cell_type": "code",
   "execution_count": null,
   "metadata": {
    "id": "yYUQOlnymcP3"
   },
   "outputs": [],
   "source": [
    "# до\n",
    "a = 2\n",
    "b = 5"
   ]
  },
  {
   "cell_type": "code",
   "execution_count": null,
   "metadata": {
    "id": "XV00fJ8umcP4",
    "outputId": "f7761214-128a-4a00-dd46-a859936cb485"
   },
   "outputs": [
    {
     "name": "stdout",
     "output_type": "stream",
     "text": [
      "5\n",
      "2\n"
     ]
    }
   ],
   "source": [
    "# после\n",
    "print(a)\n",
    "print(b)"
   ]
  },
  {
   "cell_type": "markdown",
   "metadata": {
    "id": "1EkyhzfcmcP5"
   },
   "source": [
    "**Задание 3**\n",
    "\n",
    "Напишите программу, которая логарифмирует значение некоторого физиологического параметра, которое хранится в переменной 'phis` и округляет результат до второго знака после запятой."
   ]
  },
  {
   "cell_type": "markdown",
   "metadata": {
    "id": "-UgbWCZBmcP6"
   },
   "source": [
    "**Задание 4**\n",
    "\n",
    "Напишите программу, которая будет считать значение *Y*:\n",
    "\n",
    "$Y = 0.4 \\cdot X1 + 0.6 \\cdot X2$"
   ]
  },
  {
   "cell_type": "markdown",
   "metadata": {
    "id": "YO-i75UnmcP7"
   },
   "source": [
    "**Задание 5**\n",
    "\n",
    "Напишите программу, которая запрашивает у пользователя имя и фамилию и выводит на экран сообщение такого вида:"
   ]
  },
  {
   "cell_type": "markdown",
   "metadata": {
    "id": "y0GYrAtNmcP8"
   },
   "source": [
    "```Имя Фамилия```, добро пожаловать!"
   ]
  },
  {
   "cell_type": "markdown",
   "metadata": {
    "id": "HXvaBh7zyjhU"
   },
   "source": [
    "Запустите программу в cmd, в pycharm, в jupyter notebook"
   ]
  },
  {
   "cell_type": "markdown",
   "metadata": {},
   "source": [
    "Дополнительные задачи"
   ]
  },
  {
   "cell_type": "markdown",
   "metadata": {
    "id": "h01Ys5NWM0vi"
   },
   "source": [
    "1. В первый день спортсмен пробежал x километров, а затем он каждый день увеличивал пробег на 10% от предыдущего значения. По данному числу y определите номер дня, на который пробег спортсмена составит не менее y километров. Программа получает на вход действительные числа x и y и должна вывести одно натуральное число."
   ]
  },
  {
   "cell_type": "markdown",
   "metadata": {
    "id": "PHo6xJutQAht"
   },
   "source": [
    "2. Вывести все простые числа в заданном интервале Например, [1,27]"
   ]
  },
  {
   "cell_type": "markdown",
   "metadata": {
    "id": "cZuD2jv7SDeT"
   },
   "source": [
    "**Задача со звездочкой ***\n",
    "\n",
    "Дан список слов, необходимо выделить общую начальную часть (с максимальной длиной) всех слов в списке, если такой нет, вывести пустую строку.\n",
    "\n",
    "Например, ['радуга', 'радость', 'радио', 'радар'], результат 'рад', или ['радуга', 'радость', 'радио', 'маяк'], результат ''"
   ]
  }
 ],
 "metadata": {
  "colab": {
   "authorship_tag": "ABX9TyPF1mu291D6kLRLtFfsjgwF",
   "provenance": []
  },
  "kernelspec": {
   "display_name": "Python 3 (ipykernel)",
   "language": "python",
   "name": "python3"
  },
  "language_info": {
   "codemirror_mode": {
    "name": "ipython",
    "version": 3
   },
   "file_extension": ".py",
   "mimetype": "text/x-python",
   "name": "python",
   "nbconvert_exporter": "python",
   "pygments_lexer": "ipython3",
   "version": "3.10.11"
  }
 },
 "nbformat": 4,
 "nbformat_minor": 4
}
